{
 "cells": [
  {
   "cell_type": "markdown",
   "id": "0afb3dc7",
   "metadata": {},
   "source": [
    "## 소프트맥스 회귀로 MNIST 데이터 분류하기"
   ]
  },
  {
   "cell_type": "markdown",
   "id": "96f25709",
   "metadata": {},
   "source": [
    "MNIST 데이터는 28 픽셀 * 28 픽셀 = 784 픽셀을 가지고 있다. "
   ]
  },
  {
   "cell_type": "markdown",
   "id": "a8818e28",
   "metadata": {},
   "source": [
    "#### 토치비전(torchvision) 소개하기\n",
    "- 유명한 데이터셋들, 이미 구현되어져 있는 유명한 모델들, 일반적인 이미지 전처리 도구들을 포함하고 있는 패키지"
   ]
  },
  {
   "cell_type": "code",
   "execution_count": 2,
   "id": "5ce5eafa",
   "metadata": {},
   "outputs": [],
   "source": [
    "import torch\n",
    "import torchvision.datasets as dsets\n",
    "import torchvision.transforms as transforms\n",
    "from torch.utils.data import DataLoader\n",
    "import torch.nn as nn\n",
    "import matplotlib.pyplot as plt\n",
    "import random"
   ]
  },
  {
   "cell_type": "code",
   "execution_count": 6,
   "id": "badae220",
   "metadata": {},
   "outputs": [
    {
     "name": "stdout",
     "output_type": "stream",
     "text": [
      "다음 기기로 학습합니다: cuda\n"
     ]
    }
   ],
   "source": [
    "USE_CUDA = torch.cuda.is_available() # GPU를 사용가능하다면 True, 아니라면 False를 리턴\n",
    "device = torch.device(\"cuda\" if USE_CUDA else \"cpu\") #GPU 사용 가능하면 사용하고 아니면 cpu 사용\n",
    "print(\"다음 기기로 학습합니다:\", device)"
   ]
  },
  {
   "cell_type": "code",
   "execution_count": 8,
   "id": "cd206a4f",
   "metadata": {},
   "outputs": [],
   "source": [
    "random.seed(777)\n",
    "torch.manual_seed(777)\n",
    "if device == 'cuda':\n",
    "    torch.cuda.manual_seed_all(777)"
   ]
  },
  {
   "cell_type": "code",
   "execution_count": 9,
   "id": "1a4c2330",
   "metadata": {},
   "outputs": [],
   "source": [
    "#하이퍼 파라미터 선언\n",
    "training_epochs = 15\n",
    "batch_size = 100"
   ]
  },
  {
   "cell_type": "code",
   "execution_count": 10,
   "id": "2a9a75cd",
   "metadata": {},
   "outputs": [
    {
     "name": "stdout",
     "output_type": "stream",
     "text": [
      "Downloading http://yann.lecun.com/exdb/mnist/train-images-idx3-ubyte.gz to MNIST_data/MNIST/raw/train-images-idx3-ubyte.gz\n"
     ]
    },
    {
     "data": {
      "application/vnd.jupyter.widget-view+json": {
       "model_id": "520405c62afb42468a6851b5c6132afb",
       "version_major": 2,
       "version_minor": 0
      },
      "text/plain": [
       "HBox(children=(HTML(value=''), FloatProgress(value=1.0, bar_style='info', layout=Layout(width='20px'), max=1.0…"
      ]
     },
     "metadata": {},
     "output_type": "display_data"
    },
    {
     "name": "stdout",
     "output_type": "stream",
     "text": [
      "Extracting MNIST_data/MNIST/raw/train-images-idx3-ubyte.gz to MNIST_data/MNIST/raw\n",
      "Downloading http://yann.lecun.com/exdb/mnist/train-labels-idx1-ubyte.gz to MNIST_data/MNIST/raw/train-labels-idx1-ubyte.gz\n"
     ]
    },
    {
     "data": {
      "application/vnd.jupyter.widget-view+json": {
       "model_id": "cd89374b11774418a8f307e8d4a8dd01",
       "version_major": 2,
       "version_minor": 0
      },
      "text/plain": [
       "HBox(children=(HTML(value=''), FloatProgress(value=1.0, bar_style='info', layout=Layout(width='20px'), max=1.0…"
      ]
     },
     "metadata": {},
     "output_type": "display_data"
    },
    {
     "name": "stdout",
     "output_type": "stream",
     "text": [
      "Extracting MNIST_data/MNIST/raw/train-labels-idx1-ubyte.gz to MNIST_data/MNIST/raw\n",
      "Downloading http://yann.lecun.com/exdb/mnist/t10k-images-idx3-ubyte.gz to MNIST_data/MNIST/raw/t10k-images-idx3-ubyte.gz\n"
     ]
    },
    {
     "data": {
      "application/vnd.jupyter.widget-view+json": {
       "model_id": "a7ac556ec6774f08a4dba5b1a27fa4a9",
       "version_major": 2,
       "version_minor": 0
      },
      "text/plain": [
       "HBox(children=(HTML(value=''), FloatProgress(value=1.0, bar_style='info', layout=Layout(width='20px'), max=1.0…"
      ]
     },
     "metadata": {},
     "output_type": "display_data"
    },
    {
     "name": "stdout",
     "output_type": "stream",
     "text": [
      "Extracting MNIST_data/MNIST/raw/t10k-images-idx3-ubyte.gz to MNIST_data/MNIST/raw\n",
      "Downloading http://yann.lecun.com/exdb/mnist/t10k-labels-idx1-ubyte.gz to MNIST_data/MNIST/raw/t10k-labels-idx1-ubyte.gz\n"
     ]
    },
    {
     "data": {
      "application/vnd.jupyter.widget-view+json": {
       "model_id": "f451ff73cddb41ed9585a060ff936b24",
       "version_major": 2,
       "version_minor": 0
      },
      "text/plain": [
       "HBox(children=(HTML(value=''), FloatProgress(value=1.0, bar_style='info', layout=Layout(width='20px'), max=1.0…"
      ]
     },
     "metadata": {},
     "output_type": "display_data"
    },
    {
     "name": "stdout",
     "output_type": "stream",
     "text": [
      "Extracting MNIST_data/MNIST/raw/t10k-labels-idx1-ubyte.gz to MNIST_data/MNIST/raw\n",
      "Processing...\n",
      "Done!\n"
     ]
    },
    {
     "name": "stderr",
     "output_type": "stream",
     "text": [
      "/home/gitlabmaster/anaconda3/lib/python3.8/site-packages/torchvision/datasets/mnist.py:480: UserWarning: The given NumPy array is not writeable, and PyTorch does not support non-writeable tensors. This means you can write to the underlying (supposedly non-writeable) NumPy array using the tensor. You may want to copy the array to protect its data or make it writeable before converting it to a tensor. This type of warning will be suppressed for the rest of this program. (Triggered internally at  /pytorch/torch/csrc/utils/tensor_numpy.cpp:141.)\n",
      "  return torch.from_numpy(parsed.astype(m[2], copy=False)).view(*s)\n"
     ]
    }
   ],
   "source": [
    "# MNIST dataset\n",
    "mnist_train = dsets.MNIST(root='MNIST_data/',\n",
    "                          train=True,\n",
    "                          transform=transforms.ToTensor(),\n",
    "                          download=True)\n",
    "\n",
    "mnist_test = dsets.MNIST(root='MNIST_data/',\n",
    "                         train=False,\n",
    "                         transform=transforms.ToTensor(),\n",
    "                         download=True)"
   ]
  },
  {
   "cell_type": "code",
   "execution_count": 11,
   "id": "1def4341",
   "metadata": {},
   "outputs": [],
   "source": [
    "# dataset loader\n",
    "data_loader = DataLoader(dataset=mnist_train,\n",
    "                                          batch_size=batch_size, # 배치 크기는 100\n",
    "                                          shuffle=True,\n",
    "                                          drop_last=True)"
   ]
  },
  {
   "cell_type": "code",
   "execution_count": 13,
   "id": "97ebfff6",
   "metadata": {},
   "outputs": [
    {
     "name": "stdout",
     "output_type": "stream",
     "text": [
      "<torch.utils.data.dataloader.DataLoader object at 0x7efb9d477ac0>\n"
     ]
    }
   ],
   "source": [
    "print(data_loader)"
   ]
  },
  {
   "cell_type": "code",
   "execution_count": 14,
   "id": "b6c36ac7",
   "metadata": {},
   "outputs": [],
   "source": [
    "# MNIST data image of shape 28 * 28 = 784\n",
    "linear = nn.Linear(784, 10, bias=True).to(device)"
   ]
  },
  {
   "cell_type": "code",
   "execution_count": 15,
   "id": "0450af31",
   "metadata": {},
   "outputs": [],
   "source": [
    "criterion = nn.CrossEntropyLoss().to(device) # 내부적으로 소프트맥스 함수를 포함하고 있음.\n",
    "optimizer = torch.optim.SGD(linear.parameters(), lr=0.1)"
   ]
  },
  {
   "cell_type": "code",
   "execution_count": 16,
   "id": "fd815254",
   "metadata": {},
   "outputs": [
    {
     "name": "stdout",
     "output_type": "stream",
     "text": [
      "Epoch: 0001 cost = 0.534912467\n",
      "Epoch: 0002 cost = 0.359308630\n",
      "Epoch: 0003 cost = 0.331088215\n",
      "Epoch: 0004 cost = 0.316574216\n",
      "Epoch: 0005 cost = 0.307130307\n",
      "Epoch: 0006 cost = 0.300207853\n",
      "Epoch: 0007 cost = 0.294897288\n",
      "Epoch: 0008 cost = 0.290830463\n",
      "Epoch: 0009 cost = 0.287419587\n",
      "Epoch: 0010 cost = 0.284589082\n",
      "Epoch: 0011 cost = 0.281816244\n",
      "Epoch: 0012 cost = 0.279919684\n",
      "Epoch: 0013 cost = 0.277836829\n",
      "Epoch: 0014 cost = 0.276022315\n",
      "Epoch: 0015 cost = 0.274443209\n",
      "Learning finished\n"
     ]
    }
   ],
   "source": [
    "for epoch in range(training_epochs): # 앞서 training_epochs의 값은 15로 지정함.\n",
    "    avg_cost = 0\n",
    "    total_batch = len(data_loader)\n",
    "\n",
    "    for X, Y in data_loader:\n",
    "        # 배치 크기가 100이므로 아래의 연산에서 X는 (100, 784)의 텐서가 된다.\n",
    "        X = X.view(-1, 28 * 28).to(device)\n",
    "        # 레이블은 원-핫 인코딩이 된 상태가 아니라 0 ~ 9의 정수.\n",
    "        Y = Y.to(device)\n",
    "\n",
    "        optimizer.zero_grad()\n",
    "        hypothesis = linear(X)\n",
    "        cost = criterion(hypothesis, Y)\n",
    "        cost.backward()\n",
    "        optimizer.step()\n",
    "\n",
    "        avg_cost += cost / total_batch\n",
    "\n",
    "    print('Epoch:', '%04d' % (epoch + 1), 'cost =', '{:.9f}'.format(avg_cost))\n",
    "\n",
    "print('Learning finished')"
   ]
  },
  {
   "cell_type": "code",
   "execution_count": 17,
   "id": "a3cfb43d",
   "metadata": {},
   "outputs": [
    {
     "name": "stdout",
     "output_type": "stream",
     "text": [
      "Accuracy: 0.8867999911308289\n",
      "Label:  8\n",
      "Prediction:  3\n"
     ]
    },
    {
     "name": "stderr",
     "output_type": "stream",
     "text": [
      "/home/gitlabmaster/anaconda3/lib/python3.8/site-packages/torchvision/datasets/mnist.py:63: UserWarning: test_data has been renamed data\n",
      "  warnings.warn(\"test_data has been renamed data\")\n",
      "/home/gitlabmaster/anaconda3/lib/python3.8/site-packages/torchvision/datasets/mnist.py:53: UserWarning: test_labels has been renamed targets\n",
      "  warnings.warn(\"test_labels has been renamed targets\")\n"
     ]
    },
    {
     "data": {
      "image/png": "[encoded data removed]",
      "text/plain": [
       "<Figure size 432x288 with 1 Axes>"
      ]
     },
     "metadata": {
      "needs_background": "light"
     },
     "output_type": "display_data"
    }
   ],
   "source": [
    "# 테스트 데이터를 사용하여 모델을 테스트한다.\n",
    "with torch.no_grad(): # torch.no_grad()를 하면 gradient 계산을 수행하지 않는다.\n",
    "    X_test = mnist_test.test_data.view(-1, 28 * 28).float().to(device)\n",
    "    Y_test = mnist_test.test_labels.to(device)\n",
    "\n",
    "    prediction = linear(X_test)\n",
    "    correct_prediction = torch.argmax(prediction, 1) == Y_test\n",
    "    accuracy = correct_prediction.float().mean()\n",
    "    print('Accuracy:', accuracy.item())\n",
    "\n",
    "    # MNIST 테스트 데이터에서 무작위로 하나를 뽑아서 예측을 해본다\n",
    "    r = random.randint(0, len(mnist_test) - 1)\n",
    "    X_single_data = mnist_test.test_data[r:r + 1].view(-1, 28 * 28).float().to(device)\n",
    "    Y_single_data = mnist_test.test_labels[r:r + 1].to(device)\n",
    "\n",
    "    print('Label: ', Y_single_data.item())\n",
    "    single_prediction = linear(X_single_data)\n",
    "    print('Prediction: ', torch.argmax(single_prediction, 1).item())\n",
    "\n",
    "    plt.imshow(mnist_test.test_data[r:r + 1].view(28, 28), cmap='Greys', interpolation='nearest')\n",
    "    plt.show()"
   ]
  },
  {
   "cell_type": "markdown",
   "id": "8c60ecf8",
   "metadata": {},
   "source": [
    "# 인공 신경망"
   ]
  },
  {
   "cell_type": "markdown",
   "id": "d7458821",
   "metadata": {},
   "source": [
    "## 머신 러닝 용어 이해하기"
   ]
  },
  {
   "attachments": {
    "image.png": {
     "image/png": "[encoded data removed]"
    }
   },
   "cell_type": "markdown",
   "id": "f8ebc470",
   "metadata": {},
   "source": [
    "#### 머신 러닝 모델의 평가\n",
    "![image.png](attachment:image.png)\n",
    "- 검증용 데이터는 모델의 성능을 평가하기 위한 용도가 아니라 모델의 성능을 조정-하기 위한 용도\n",
    "- 하이퍼 파라미터 : 값에 따라서 모델의 성능에 영향을 주는 매개변수 ex) 은닉층의 수, 뉴런의 수, 드롭아웃 비율 등\n",
    "- 매개 변수 : 가중치와 편향 같은 학습을 통해 바귀어져가는 변수\n",
    "매개 변수와 하이퍼 파라미터의 가장 큰 차이는 하이퍼파라미터는 사용자가 직접 정해줄 수 있는 변수라는 점입니다. "
   ]
  },
  {
   "cell_type": "markdown",
   "id": "adf1df85",
   "metadata": {},
   "source": [
    "#### 단층 퍼셉트론"
   ]
  },
  {
   "cell_type": "code",
   "execution_count": 26,
   "id": "1192283d",
   "metadata": {},
   "outputs": [],
   "source": [
    "def AND_gate(x1, x2):\n",
    "    w1 = 0.5\n",
    "    w2 = 0.5\n",
    "    b = -0.7\n",
    "    result = x1 * w1 + x2 * w2 + b\n",
    "    if result <= 0:\n",
    "        return 0\n",
    "    else:\n",
    "        return 1"
   ]
  },
  {
   "cell_type": "code",
   "execution_count": 28,
   "id": "962afe10",
   "metadata": {},
   "outputs": [
    {
     "data": {
      "text/plain": [
       "(0, 0, 0, 1)"
      ]
     },
     "execution_count": 28,
     "metadata": {},
     "output_type": "execute_result"
    }
   ],
   "source": [
    "AND_gate(0, 0), AND_gate(0, 1), AND_gate(1, 0), AND_gate(1, 1)\n"
   ]
  },
  {
   "cell_type": "code",
   "execution_count": 29,
   "id": "4a8c12d2",
   "metadata": {},
   "outputs": [],
   "source": [
    "def NAND_gate(x1, x2):\n",
    "    w1=-0.5\n",
    "    w2=-0.5\n",
    "    b=0.7\n",
    "    result = x1*w1 + x2*w2 + b\n",
    "    if result <= 0:\n",
    "        return 0\n",
    "    else:\n",
    "        return 1"
   ]
  },
  {
   "cell_type": "code",
   "execution_count": 30,
   "id": "b6477a6a",
   "metadata": {},
   "outputs": [
    {
     "data": {
      "text/plain": [
       "(1, 1, 1, 0)"
      ]
     },
     "execution_count": 30,
     "metadata": {},
     "output_type": "execute_result"
    }
   ],
   "source": [
    "NAND_gate(0, 0), NAND_gate(0, 1), NAND_gate(1, 0), NAND_gate(1, 1)"
   ]
  },
  {
   "cell_type": "code",
   "execution_count": 31,
   "id": "71aee9f8",
   "metadata": {},
   "outputs": [],
   "source": [
    "def OR_gate(x1, x2):\n",
    "    w1=0.6\n",
    "    w2=0.6\n",
    "    b=-0.5\n",
    "    result = x1*w1 + x2*w2 + b\n",
    "    if result <= 0:\n",
    "        return 0\n",
    "    else:\n",
    "        return 1"
   ]
  },
  {
   "cell_type": "code",
   "execution_count": 32,
   "id": "a182776b",
   "metadata": {},
   "outputs": [
    {
     "data": {
      "text/plain": [
       "(0, 1, 1, 1)"
      ]
     },
     "execution_count": 32,
     "metadata": {},
     "output_type": "execute_result"
    }
   ],
   "source": [
    "OR_gate(0, 0), OR_gate(0, 1), OR_gate(1, 0), OR_gate(1, 1)"
   ]
  },
  {
   "cell_type": "markdown",
   "id": "442f10bd",
   "metadata": {},
   "source": [
    "여기까지의 함수 구현만으로는 한계가 존재합니다. 따라서 이를 해결하기 위한 방법이 필요하다."
   ]
  },
  {
   "cell_type": "markdown",
   "id": "8aafa788",
   "metadata": {},
   "source": [
    "## XOR 문제 - 단층 퍼셉트론 구현하기\n",
    "- 파이토치로 단층 퍼셉트로 구현하기"
   ]
  },
  {
   "cell_type": "code",
   "execution_count": 34,
   "id": "027cc7b5",
   "metadata": {},
   "outputs": [],
   "source": [
    "import torch"
   ]
  },
  {
   "cell_type": "code",
   "execution_count": 36,
   "id": "3e73e218",
   "metadata": {},
   "outputs": [],
   "source": [
    "device = 'cuda' if torch.cuda.is_available() else 'cpu'\n",
    "torch.manual_seed(777)\n",
    "if device == 'cuda':\n",
    "    torch.cuda.manual_seed_all(777)"
   ]
  },
  {
   "cell_type": "code",
   "execution_count": 37,
   "id": "62933165",
   "metadata": {},
   "outputs": [],
   "source": [
    "X = torch.FloatTensor([[0, 0], [0, 1], [1, 0], [1, 1]]).to(device)\n",
    "Y = torch.FloatTensor([[0], [1], [1], [0]]).to(device)"
   ]
  },
  {
   "cell_type": "code",
   "execution_count": 40,
   "id": "7a480ca4",
   "metadata": {},
   "outputs": [],
   "source": [
    "linear = nn.Linear(2, 1, bias = True)\n",
    "sigmoid = nn.Sigmoid()\n",
    "model = nn.Sequential(linear, sigmoid).to(device)"
   ]
  },
  {
   "cell_type": "code",
   "execution_count": 44,
   "id": "9aa09251",
   "metadata": {},
   "outputs": [],
   "source": [
    "#비용 함수와 옵티마이저\n",
    "criterion = torch.nn.BCELoss().to(device)\n",
    "optimzier = torch.optim.SGD(model.parameters(), lr = 1)"
   ]
  },
  {
   "cell_type": "code",
   "execution_count": 47,
   "id": "e0ec2905",
   "metadata": {},
   "outputs": [
    {
     "name": "stdout",
     "output_type": "stream",
     "text": [
      "0 0.7433513402938843\n",
      "100 0.7433513402938843\n",
      "200 0.7433513402938843\n",
      "300 0.7433513402938843\n",
      "400 0.7433513402938843\n",
      "500 0.7433513402938843\n",
      "600 0.7433513402938843\n",
      "700 0.7433513402938843\n",
      "800 0.7433513402938843\n",
      "900 0.7433513402938843\n",
      "1000 0.7433513402938843\n",
      "1100 0.7433513402938843\n",
      "1200 0.7433513402938843\n",
      "1300 0.7433513402938843\n",
      "1400 0.7433513402938843\n",
      "1500 0.7433513402938843\n",
      "1600 0.7433513402938843\n",
      "1700 0.7433513402938843\n",
      "1800 0.7433513402938843\n",
      "1900 0.7433513402938843\n",
      "2000 0.7433513402938843\n",
      "2100 0.7433513402938843\n",
      "2200 0.7433513402938843\n",
      "2300 0.7433513402938843\n",
      "2400 0.7433513402938843\n",
      "2500 0.7433513402938843\n",
      "2600 0.7433513402938843\n",
      "2700 0.7433513402938843\n",
      "2800 0.7433513402938843\n",
      "2900 0.7433513402938843\n",
      "3000 0.7433513402938843\n",
      "3100 0.7433513402938843\n",
      "3200 0.7433513402938843\n",
      "3300 0.7433513402938843\n",
      "3400 0.7433513402938843\n",
      "3500 0.7433513402938843\n",
      "3600 0.7433513402938843\n",
      "3700 0.7433513402938843\n",
      "3800 0.7433513402938843\n",
      "3900 0.7433513402938843\n",
      "4000 0.7433513402938843\n",
      "4100 0.7433513402938843\n",
      "4200 0.7433513402938843\n",
      "4300 0.7433513402938843\n",
      "4400 0.7433513402938843\n",
      "4500 0.7433513402938843\n",
      "4600 0.7433513402938843\n",
      "4700 0.7433513402938843\n",
      "4800 0.7433513402938843\n",
      "4900 0.7433513402938843\n",
      "5000 0.7433513402938843\n",
      "5100 0.7433513402938843\n",
      "5200 0.7433513402938843\n",
      "5300 0.7433513402938843\n",
      "5400 0.7433513402938843\n",
      "5500 0.7433513402938843\n",
      "5600 0.7433513402938843\n",
      "5700 0.7433513402938843\n",
      "5800 0.7433513402938843\n",
      "5900 0.7433513402938843\n",
      "6000 0.7433513402938843\n",
      "6100 0.7433513402938843\n",
      "6200 0.7433513402938843\n",
      "6300 0.7433513402938843\n",
      "6400 0.7433513402938843\n",
      "6500 0.7433513402938843\n",
      "6600 0.7433513402938843\n",
      "6700 0.7433513402938843\n",
      "6800 0.7433513402938843\n",
      "6900 0.7433513402938843\n",
      "7000 0.7433513402938843\n",
      "7100 0.7433513402938843\n",
      "7200 0.7433513402938843\n",
      "7300 0.7433513402938843\n",
      "7400 0.7433513402938843\n",
      "7500 0.7433513402938843\n",
      "7600 0.7433513402938843\n",
      "7700 0.7433513402938843\n",
      "7800 0.7433513402938843\n",
      "7900 0.7433513402938843\n",
      "8000 0.7433513402938843\n",
      "8100 0.7433513402938843\n",
      "8200 0.7433513402938843\n",
      "8300 0.7433513402938843\n",
      "8400 0.7433513402938843\n",
      "8500 0.7433513402938843\n",
      "8600 0.7433513402938843\n",
      "8700 0.7433513402938843\n",
      "8800 0.7433513402938843\n",
      "8900 0.7433513402938843\n",
      "9000 0.7433513402938843\n",
      "9100 0.7433513402938843\n",
      "9200 0.7433513402938843\n",
      "9300 0.7433513402938843\n",
      "9400 0.7433513402938843\n",
      "9500 0.7433513402938843\n",
      "9600 0.7433513402938843\n",
      "9700 0.7433513402938843\n",
      "9800 0.7433513402938843\n",
      "9900 0.7433513402938843\n",
      "10000 0.7433513402938843\n"
     ]
    }
   ],
   "source": [
    "#10,001번의 에포크 수행. 0번 에포크부터 10,000번 에포크까지.\n",
    "for step in range(10001): \n",
    "    optimizer.zero_grad()\n",
    "    hypothesis = model(X)\n",
    "\n",
    "    # 비용 함수\n",
    "    cost = criterion(hypothesis, Y)\n",
    "    cost.backward()\n",
    "    optimizer.step()\n",
    "\n",
    "    if step % 100 == 0: # 100번째 에포크마다 비용 출력\n",
    "        print(step, cost.item())"
   ]
  },
  {
   "cell_type": "code",
   "execution_count": 48,
   "id": "8f0d3360",
   "metadata": {},
   "outputs": [
    {
     "name": "stdout",
     "output_type": "stream",
     "text": [
      "모델의 출력값(Hypothesis):  [[0.61287934]\n",
      " [0.61397755]\n",
      " [0.68493944]\n",
      " [0.68593794]]\n",
      "모델의 예측값(Predicted):  [[1.]\n",
      " [1.]\n",
      " [1.]\n",
      " [1.]]\n",
      "실제값(Y):  [[0.]\n",
      " [1.]\n",
      " [1.]\n",
      " [0.]]\n",
      "정확도(Accuracy):  0.5\n"
     ]
    }
   ],
   "source": [
    "with torch.no_grad():\n",
    "    hypothesis = model(X)\n",
    "    predicted = (hypothesis > 0.5).float()\n",
    "    accuracy = (predicted == Y).float().mean()\n",
    "    print('모델의 출력값(Hypothesis): ', hypothesis.detach().cpu().numpy())\n",
    "    print('모델의 예측값(Predicted): ', predicted.detach().cpu().numpy())\n",
    "    print('실제값(Y): ', Y.cpu().numpy())\n",
    "    print('정확도(Accuracy): ', accuracy.item())"
   ]
  },
  {
   "cell_type": "code",
   "execution_count": null,
   "id": "2be4308c",
   "metadata": {},
   "outputs": [],
   "source": []
  }
 ],
 "metadata": {
  "kernelspec": {
   "display_name": "Python 3",
   "language": "python",
   "name": "python3"
  },
  "language_info": {
   "codemirror_mode": {
    "name": "ipython",
    "version": 3
   },
   "file_extension": ".py",
   "mimetype": "text/x-python",
   "name": "python",
   "nbconvert_exporter": "python",
   "pygments_lexer": "ipython3",
   "version": "3.8.8"
  }
 },
 "nbformat": 4,
 "nbformat_minor": 5
}
