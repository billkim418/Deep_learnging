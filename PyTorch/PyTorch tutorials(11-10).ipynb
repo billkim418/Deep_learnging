{
 "cells": [
  {
   "cell_type": "markdown",
   "id": "f6da4aab",
   "metadata": {},
   "source": [
    "## 1. 파이토치 패키지의 기본 구성\n",
    "- torch\n",
    "    - 메인 네임스페이스, 텐서 등 다양한 수학 함수 포함, Numpy와 유사한 구조\n",
    "- torch.autograd\n",
    "    - 자동 미분을 위한 함수들이 포함, 자동 미분의 on/off를 제어하는 콘텍스트 매니저(enable_grad/no_grad), 미분 가능 함수를 정의하는 Function 등이 포함되어 있다.\n",
    "- torch.nn\n",
    "    - 신경망 구축을 위한 다양한 데이터 구조나 레이어등이 정의됨 ,ex) RNN, LSTM, ReLU, MSELoss\n",
    "- torch.optim\n",
    "    - 확률적 경사 하강법(SGD)를 중심으로 한 파라미터 최적화 알고리즘이 구현되어 있다.\n",
    "- torch.utils.data\n",
    "    - SGD의 반복 연산을 실행할 때 사용하는 미니 배치용 유틸리티 함수가 포함\n",
    "- torch.onnx\n",
    "    - ONNX(Open Neural Network Exchange)의 포맷으로 모델을 export할 때 사용한다. ONNX는 다른 딥 러닝 프레임워크 간에 모델 공유 시 사용하는 포맷"
   ]
  },
  {
   "cell_type": "markdown",
   "id": "5b627a86",
   "metadata": {},
   "source": [
    "## 2. 텐서 조작하기"
   ]
  },
  {
   "cell_type": "markdown",
   "id": "5d004626",
   "metadata": {},
   "source": [
    "### 넘파이로 텐서 만드릭(벡터와 행렬 만들기)"
   ]
  },
  {
   "cell_type": "code",
   "execution_count": 1,
   "id": "004a1d15",
   "metadata": {},
   "outputs": [],
   "source": [
    "import numpy as np"
   ]
  },
  {
   "cell_type": "code",
   "execution_count": 2,
   "id": "fa01ca6f",
   "metadata": {},
   "outputs": [
    {
     "name": "stdout",
     "output_type": "stream",
     "text": [
      "[0. 1. 2. 3. 4. 5. 6.]\n"
     ]
    }
   ],
   "source": [
    "# 1) 1D with Numpy\n",
    "t = np.array([0., 1., 2., 3., 4., 5., 6.])\n",
    "print(t)"
   ]
  },
  {
   "cell_type": "code",
   "execution_count": 3,
   "id": "2fa8368e",
   "metadata": {},
   "outputs": [
    {
     "name": "stdout",
     "output_type": "stream",
     "text": [
      "Rank of t:  1\n",
      "Shape of t:  (7,)\n"
     ]
    }
   ],
   "source": [
    "print('Rank of t: ', t.ndim)\n",
    "print('Shape of t: ', t.shape)"
   ]
  },
  {
   "cell_type": "code",
   "execution_count": 4,
   "id": "3fd14895",
   "metadata": {},
   "outputs": [
    {
     "name": "stdout",
     "output_type": "stream",
     "text": [
      "[[ 1.  2.  3.]\n",
      " [ 4.  5.  6.]\n",
      " [ 7.  8.  9.]\n",
      " [10. 11. 12.]]\n"
     ]
    }
   ],
   "source": [
    "# 2D with Numpy\n",
    "t = np.array([[1., 2., 3.], [4., 5., 6.], [7., 8., 9.], [10., 11., 12.]])\n",
    "print(t)"
   ]
  },
  {
   "cell_type": "code",
   "execution_count": 5,
   "id": "57617004",
   "metadata": {},
   "outputs": [
    {
     "name": "stdout",
     "output_type": "stream",
     "text": [
      "Rank  of t:  2\n",
      "Shape of t:  (4, 3)\n"
     ]
    }
   ],
   "source": [
    "print('Rank  of t: ', t.ndim)\n",
    "print('Shape of t: ', t.shape)"
   ]
  },
  {
   "cell_type": "markdown",
   "id": "e88d3f8e",
   "metadata": {},
   "source": [
    "### 파이토치로 텐서 선언하기"
   ]
  },
  {
   "cell_type": "code",
   "execution_count": 6,
   "id": "3258deef",
   "metadata": {},
   "outputs": [
    {
     "name": "stdout",
     "output_type": "stream",
     "text": [
      "tensor([0., 1., 2., 3., 4., 5., 6.])\n"
     ]
    }
   ],
   "source": [
    "import torch\n",
    "#)1D with PyTorch\n",
    "t = torch.FloatTensor([0., 1., 2., 3., 4., 5., 6.])\n",
    "print(t)"
   ]
  },
  {
   "cell_type": "code",
   "execution_count": 7,
   "id": "d1a92c69",
   "metadata": {},
   "outputs": [
    {
     "name": "stdout",
     "output_type": "stream",
     "text": [
      "1\n",
      "torch.Size([7])\n",
      "torch.Size([7])\n"
     ]
    }
   ],
   "source": [
    "print(t.dim())\n",
    "print(t.shape)\n",
    "print(t.size())"
   ]
  },
  {
   "cell_type": "code",
   "execution_count": 8,
   "id": "42790e4e",
   "metadata": {},
   "outputs": [
    {
     "name": "stdout",
     "output_type": "stream",
     "text": [
      "tensor([[ 1.,  2.,  3.],\n",
      "        [ 4.,  5.,  6.],\n",
      "        [ 7.,  8.,  9.],\n",
      "        [10., 11., 12.]])\n"
     ]
    }
   ],
   "source": [
    "#)2D with PyTorch\n",
    "t = torch.FloatTensor([[1., 2., 3.],\n",
    "                       [4., 5., 6.],\n",
    "                       [7., 8., 9.],\n",
    "                       [10., 11., 12.]\n",
    "                      ])\n",
    "print(t)"
   ]
  },
  {
   "cell_type": "code",
   "execution_count": 9,
   "id": "6ee89d75",
   "metadata": {},
   "outputs": [
    {
     "name": "stdout",
     "output_type": "stream",
     "text": [
      "2\n",
      "torch.Size([4, 3])\n"
     ]
    }
   ],
   "source": [
    "print(t.dim())  # rank. 즉, 차원\n",
    "print(t.size()) # shape"
   ]
  },
  {
   "cell_type": "markdown",
   "id": "ce9d5492",
   "metadata": {},
   "source": [
    "### 브로드캐스팅(Broadcasting)\n",
    "- 자동으로 크기를 맞춰서 연산을 수행하게 해준다."
   ]
  },
  {
   "cell_type": "code",
   "execution_count": 10,
   "id": "b022b396",
   "metadata": {},
   "outputs": [
    {
     "name": "stdout",
     "output_type": "stream",
     "text": [
      "tensor([[4., 5.]])\n"
     ]
    }
   ],
   "source": [
    "# Vector + scalar\n",
    "m1 = torch.FloatTensor([[1, 2]])\n",
    "m2 = torch.FloatTensor([3]) # [3] -> [3, 3]\n",
    "print(m1 + m2)"
   ]
  },
  {
   "cell_type": "code",
   "execution_count": 11,
   "id": "76e9e97e",
   "metadata": {},
   "outputs": [
    {
     "name": "stdout",
     "output_type": "stream",
     "text": [
      "tensor([[4., 5.],\n",
      "        [5., 6.]])\n"
     ]
    }
   ],
   "source": [
    "# 2 x 1 Vector + 1 x 2 Vector\n",
    "m1 = torch.FloatTensor([[1, 2]])\n",
    "m2 = torch.FloatTensor([[3], [4]])\n",
    "print(m1 + m2)"
   ]
  },
  {
   "cell_type": "markdown",
   "id": "7248d13e",
   "metadata": {},
   "source": [
    "### 자주 사용되는 기능들"
   ]
  },
  {
   "cell_type": "code",
   "execution_count": 78,
   "id": "7d76b304",
   "metadata": {},
   "outputs": [
    {
     "name": "stdout",
     "output_type": "stream",
     "text": [
      "tensor([[1., 2.],\n",
      "        [3., 4.]])\n",
      "tensor([[1.],\n",
      "        [2.]])\n",
      "Shape of Matrix 1:  torch.Size([2, 2])\n",
      "Shape of Matrix 2:  torch.Size([2, 1])\n",
      "tensor([[ 5.],\n",
      "        [11.]])\n",
      "Shape of Matrix 1:  torch.Size([2, 2])\n",
      "Shape of Matrix 2:  torch.Size([2, 1])\n",
      "tensor([[1., 2.],\n",
      "        [6., 8.]])\n",
      "tensor([[1., 2.],\n",
      "        [6., 8.]])\n"
     ]
    }
   ],
   "source": [
    "#행렬 곱셈과 곱셈의 차이(Matrix Multiplication Vs. Multiplication)\n",
    "m1 = torch.FloatTensor([[1, 2], [3, 4]])\n",
    "m2 = torch.FloatTensor([[1], [2]])\n",
    "print(m1)\n",
    "print(m2)\n",
    "print('Shape of Matrix 1: ', m1.shape) # 2 x 2\n",
    "print('Shape of Matrix 2: ', m2.shape) # 2 x 1\n",
    "print(m1.matmul(m2)) # 2 x 1\n",
    "\n",
    "print('Shape of Matrix 1: ', m1.shape) # 2 x 2\n",
    "print('Shape of Matrix 2: ', m2.shape) # 2 x 1\n",
    "print(m1 * m2) # 2 x 2\n",
    "print(m1.mul(m2))"
   ]
  },
  {
   "cell_type": "code",
   "execution_count": 13,
   "id": "2cb5f8b6",
   "metadata": {},
   "outputs": [
    {
     "name": "stdout",
     "output_type": "stream",
     "text": [
      "tensor(1.5000)\n"
     ]
    }
   ],
   "source": [
    "# 평균\n",
    "t = torch.FloatTensor([1, 2])\n",
    "print(t.mean())"
   ]
  },
  {
   "cell_type": "code",
   "execution_count": 14,
   "id": "f2837ac1",
   "metadata": {},
   "outputs": [
    {
     "name": "stdout",
     "output_type": "stream",
     "text": [
      "tensor([[1., 2.],\n",
      "        [3., 4.]])\n",
      "tensor([2., 3.])\n",
      "tensor([1.5000, 3.5000])\n",
      "tensor([1.5000, 3.5000])\n"
     ]
    }
   ],
   "source": [
    "t = torch.FloatTensor([[1, 2], [3, 4]])\n",
    "print(t)\n",
    "print(t.mean(dim=0)) # 행 차원 제거의 의미\n",
    "print(t.mean(dim=1)) # 열 차원 제거의 의미\n",
    "print(t.mean(dim=-1)) # 마지막 차원을 제거한다는 의미, 즉 열의 차원을 제거"
   ]
  },
  {
   "cell_type": "code",
   "execution_count": 15,
   "id": "0b932312",
   "metadata": {},
   "outputs": [
    {
     "name": "stdout",
     "output_type": "stream",
     "text": [
      "tensor([[1., 2.],\n",
      "        [3., 4.]])\n",
      "tensor(10.)\n",
      "tensor([4., 6.])\n",
      "tensor([3., 7.])\n",
      "tensor([3., 7.])\n"
     ]
    }
   ],
   "source": [
    "# 3) 덧셈 덧셈은 평균과 연산 방법이나 인자가 의미하는 바와 동일하다.\n",
    "t = torch.FloatTensor([[1, 2], [3, 4]])\n",
    "print(t)\n",
    "print(t.sum()) # 단순히 원소 전체의 덧셈을 수행\n",
    "print(t.sum(dim=0)) # 행을 제거\n",
    "print(t.sum(dim=1)) # 열을 제거\n",
    "print(t.sum(dim=-1))"
   ]
  },
  {
   "cell_type": "code",
   "execution_count": 16,
   "id": "192b2675",
   "metadata": {},
   "outputs": [
    {
     "name": "stdout",
     "output_type": "stream",
     "text": [
      "tensor([[1., 2.],\n",
      "        [3., 4.]])\n",
      "tensor(4.)\n",
      "torch.return_types.max(\n",
      "values=tensor([3., 4.]),\n",
      "indices=tensor([1, 1]))\n",
      "Max:  tensor([3., 4.])\n",
      "Argmax:  tensor([1, 1])\n"
     ]
    }
   ],
   "source": [
    "# 4) 최대(Max)와 아그맥스(ArgMax)\n",
    "t = torch.FloatTensor([[1, 2], [3, 4]])\n",
    "print(t)\n",
    "print(t.max()) # Returns one value: max\n",
    "print(t.max(dim=0)) # Returns two values: max and argmax\n",
    "print('Max: ', t.max(dim=0)[0])\n",
    "print('Argmax: ', t.max(dim=0)[1])"
   ]
  },
  {
   "cell_type": "markdown",
   "id": "ac9fd5f8",
   "metadata": {},
   "source": [
    "### 뷰(view) - 원소의 수를 유지하면서 텐서의 크기 변경! - 매우 중요함"
   ]
  },
  {
   "cell_type": "code",
   "execution_count": 17,
   "id": "046840de",
   "metadata": {},
   "outputs": [
    {
     "name": "stdout",
     "output_type": "stream",
     "text": [
      "tensor([[[ 0.,  1.,  2.],\n",
      "         [ 3.,  4.,  5.],\n",
      "         [ 6.,  7.,  8.],\n",
      "         [ 9., 10., 11.]]])\n"
     ]
    }
   ],
   "source": [
    "t = np.array([[[0, 1, 2],\n",
    "              [3, 4, 5],\n",
    "              [6, 7, 8],\n",
    "              [9, 10, 11]]])\n",
    "ft = torch.FloatTensor(t)\n",
    "print(ft)"
   ]
  },
  {
   "cell_type": "code",
   "execution_count": 18,
   "id": "c968f9e1",
   "metadata": {},
   "outputs": [
    {
     "name": "stdout",
     "output_type": "stream",
     "text": [
      "torch.Size([1, 4, 3])\n"
     ]
    }
   ],
   "source": [
    "print(ft.shape)"
   ]
  },
  {
   "cell_type": "code",
   "execution_count": 19,
   "id": "74a5e5fb",
   "metadata": {},
   "outputs": [
    {
     "data": {
      "text/plain": [
       "torch.Size([2, 2, 3])"
      ]
     },
     "execution_count": 19,
     "metadata": {},
     "output_type": "execute_result"
    }
   ],
   "source": [
    "torch.Size([2, 2, 3])"
   ]
  },
  {
   "cell_type": "code",
   "execution_count": 20,
   "id": "76a3ef5d",
   "metadata": {},
   "outputs": [
    {
     "name": "stdout",
     "output_type": "stream",
     "text": [
      "tensor([[ 0.,  1.,  2.],\n",
      "        [ 3.,  4.,  5.],\n",
      "        [ 6.,  7.,  8.],\n",
      "        [ 9., 10., 11.]])\n",
      "torch.Size([4, 3])\n"
     ]
    }
   ],
   "source": [
    "print(ft.view([-1,3]))\n",
    "print(ft.view([-1, 3]).shape) # -1은 첫번째 차원은 파이토치가 알아서 맞춰준다는 의미를 갖고 있다."
   ]
  },
  {
   "cell_type": "markdown",
   "id": "411854b7",
   "metadata": {},
   "source": [
    "### view 규칙\n",
    "- view는 기본적으로 변경 전과 변경 후의 텐서 안의 원소의 개수가 유지되어야 합니다.\n",
    "- 파이토치의 view는 사이즈가 -1로 설정되면 다른 차원으로부터 해당 값을 유추합니다.\n"
   ]
  },
  {
   "cell_type": "code",
   "execution_count": 21,
   "id": "794b514e",
   "metadata": {},
   "outputs": [
    {
     "name": "stdout",
     "output_type": "stream",
     "text": [
      "tensor([[[ 0.,  1.,  2.]],\n",
      "\n",
      "        [[ 3.,  4.,  5.]],\n",
      "\n",
      "        [[ 6.,  7.,  8.]],\n",
      "\n",
      "        [[ 9., 10., 11.]]])\n",
      "torch.Size([4, 1, 3])\n"
     ]
    }
   ],
   "source": [
    "# 3차원 텐서의 크기 변경\n",
    "print(ft.view([-1, 1, 3]))\n",
    "print(ft.view([-1, 1, 3]).shape)"
   ]
  },
  {
   "cell_type": "markdown",
   "id": "edbfaf94",
   "metadata": {},
   "source": [
    "### 스퀴즈(Squeeze) - 1인 차원을 제거한다."
   ]
  },
  {
   "cell_type": "code",
   "execution_count": 22,
   "id": "8412a4c0",
   "metadata": {},
   "outputs": [
    {
     "name": "stdout",
     "output_type": "stream",
     "text": [
      "tensor([[0.],\n",
      "        [1.],\n",
      "        [2.]])\n",
      "torch.Size([3, 1])\n"
     ]
    }
   ],
   "source": [
    "ft = torch.FloatTensor([[0], [1], [2]])\n",
    "print(ft)\n",
    "print(ft.shape)"
   ]
  },
  {
   "cell_type": "code",
   "execution_count": 23,
   "id": "0fecda69",
   "metadata": {},
   "outputs": [
    {
     "name": "stdout",
     "output_type": "stream",
     "text": [
      "tensor([0., 1., 2.])\n",
      "torch.Size([3])\n"
     ]
    }
   ],
   "source": [
    "print(ft.squeeze())\n",
    "print(ft.squeeze().shape)"
   ]
  },
  {
   "cell_type": "markdown",
   "id": "d8835a79",
   "metadata": {},
   "source": [
    "### 언스퀴즈(Unsqueeze) - 특정 위치에 1인 차원을 추가한다."
   ]
  },
  {
   "cell_type": "code",
   "execution_count": 24,
   "id": "d4ea7337",
   "metadata": {},
   "outputs": [
    {
     "name": "stdout",
     "output_type": "stream",
     "text": [
      "torch.Size([3])\n"
     ]
    }
   ],
   "source": [
    "ft = torch.Tensor([0, 1, 2])\n",
    "print(ft.shape)"
   ]
  },
  {
   "cell_type": "code",
   "execution_count": 25,
   "id": "c809d9db",
   "metadata": {},
   "outputs": [
    {
     "name": "stdout",
     "output_type": "stream",
     "text": [
      "tensor([[0., 1., 2.]])\n",
      "torch.Size([1, 3])\n",
      "tensor([[0., 1., 2.]])\n",
      "torch.Size([1, 3])\n"
     ]
    }
   ],
   "source": [
    "print(ft.unsqueeze(0))\n",
    "print(ft.unsqueeze(0).shape) #인덱스는 0부터 시작, 첫번째 차원에 1인 차원 추가\n",
    "\n",
    "#같은 변환을 view로도 구현 가능\n",
    "print(ft.view(1, -1)) \n",
    "print(ft.view(1, -1).shape)  #위와 같은 결과가 출력됨을 알 수 있다."
   ]
  },
  {
   "cell_type": "code",
   "execution_count": 26,
   "id": "e2ef46e8",
   "metadata": {},
   "outputs": [
    {
     "name": "stdout",
     "output_type": "stream",
     "text": [
      "tensor([[0.],\n",
      "        [1.],\n",
      "        [2.]])\n",
      "torch.Size([3, 1])\n",
      "tensor([[0.],\n",
      "        [1.],\n",
      "        [2.]])\n",
      "torch.Size([3, 1])\n"
     ]
    }
   ],
   "source": [
    "print(ft.unsqueeze(1))\n",
    "print(ft.unsqueeze(1).shape)\n",
    "\n",
    "# 인자에 -1을 넣어도 같은 결과가 출력된다.\n",
    "print(ft.unsqueeze(-1))\n",
    "print(ft.unsqueeze(-1).shape)"
   ]
  },
  {
   "cell_type": "markdown",
   "id": "8d602936",
   "metadata": {},
   "source": [
    "###  타입 캐스팅(Type Casting)\n",
    "- torch.FloatTensor : 32 bit의 부동 소수점\n",
    "- torch.LongTensor : 64 bit의 부호있는 정수\n",
    "- torch.cuda.FloatTensor : GPU 연산을 위한 자료형"
   ]
  },
  {
   "cell_type": "code",
   "execution_count": 27,
   "id": "788184d3",
   "metadata": {},
   "outputs": [
    {
     "name": "stdout",
     "output_type": "stream",
     "text": [
      "tensor([1, 2, 3, 4])\n"
     ]
    }
   ],
   "source": [
    "lt = torch.LongTensor([1, 2, 3, 4,])\n",
    "print(lt)"
   ]
  },
  {
   "cell_type": "code",
   "execution_count": 28,
   "id": "449ad9af",
   "metadata": {},
   "outputs": [
    {
     "name": "stdout",
     "output_type": "stream",
     "text": [
      "tensor([1., 2., 3., 4.])\n"
     ]
    }
   ],
   "source": [
    "print(lt.float()) #float형으로 타입이 변경된다."
   ]
  },
  {
   "cell_type": "code",
   "execution_count": 29,
   "id": "6c08358c",
   "metadata": {},
   "outputs": [
    {
     "name": "stdout",
     "output_type": "stream",
     "text": [
      "tensor([1, 0, 1, 0], dtype=torch.uint8)\n",
      "tensor([1, 0, 1, 0])\n",
      "tensor([1., 0., 1., 0.])\n"
     ]
    }
   ],
   "source": [
    "bt = torch.ByteTensor([True, False, True, False])\n",
    "print(bt)\n",
    "print(bt.long())\n",
    "print(bt.float())"
   ]
  },
  {
   "cell_type": "markdown",
   "id": "0b20bd04",
   "metadata": {},
   "source": [
    "### 연결하기(concatenate - 두가지의 정보를 모두 사용한다는 의미"
   ]
  },
  {
   "cell_type": "code",
   "execution_count": 30,
   "id": "8386f635",
   "metadata": {},
   "outputs": [
    {
     "name": "stdout",
     "output_type": "stream",
     "text": [
      "tensor([[1., 2.],\n",
      "        [3., 4.],\n",
      "        [5., 6.],\n",
      "        [7., 8.]])\n",
      "tensor([[1., 2., 5., 6.],\n",
      "        [3., 4., 7., 8.]])\n"
     ]
    }
   ],
   "source": [
    "x = torch.FloatTensor([[1, 2], [3, 4]])\n",
    "y = torch.FloatTensor([[5, 6], [7, 8]])\n",
    "print(torch.cat([x, y], dim =0)) # 첫번쨰 차원을 늘려 연결한다. (2,2) -> (4,2)\n",
    "print(torch.cat([x, y], dim =1)) # 두 번째 차원을 늘려 연결한다. (2,2) -> (2,4)"
   ]
  },
  {
   "cell_type": "markdown",
   "id": "695cbc2a",
   "metadata": {},
   "source": [
    "### 스택킹(Stacking)"
   ]
  },
  {
   "cell_type": "code",
   "execution_count": 31,
   "id": "e11610ee",
   "metadata": {},
   "outputs": [
    {
     "name": "stdout",
     "output_type": "stream",
     "text": [
      "tensor([[1., 4.],\n",
      "        [2., 5.],\n",
      "        [3., 6.]])\n",
      "tensor([[1., 4.],\n",
      "        [2., 5.],\n",
      "        [3., 6.]])\n",
      "tensor([[1., 2., 3.],\n",
      "        [4., 5., 6.]])\n"
     ]
    }
   ],
   "source": [
    "x = torch.FloatTensor([1,4])\n",
    "y = torch.FloatTensor([2, 5])\n",
    "z = torch.FloatTensor([3, 6 ])\n",
    "print(torch.stack([x, y, z]))\n",
    "\n",
    "#stck으로는 간단히 계산되지만 사실은 아래와 같은 연산과정을 거친다.\n",
    "print(torch.cat([x.unsqueeze(0), y.unsqueeze(0), z.unsqueeze(0)], dim=0))\n",
    "\n",
    "print(torch.stack([x, y, z], dim = 1)) # 두 번째 차원이 증가하도록 스택킹 된 결과를 보여준다."
   ]
  },
  {
   "cell_type": "markdown",
   "id": "7dfe35f0",
   "metadata": {},
   "source": [
    "### ones_like와 zeros_like - 0으로 채워진 텐서와 1로 채워진 텐서"
   ]
  },
  {
   "cell_type": "code",
   "execution_count": 32,
   "id": "61092464",
   "metadata": {},
   "outputs": [
    {
     "name": "stdout",
     "output_type": "stream",
     "text": [
      "tensor([[0., 1., 2.],\n",
      "        [2., 1., 0.]])\n",
      "tensor([[1., 1., 1.],\n",
      "        [1., 1., 1.]])\n",
      "tensor([[0., 0., 0.],\n",
      "        [0., 0., 0.]])\n"
     ]
    }
   ],
   "source": [
    "x = torch.FloatTensor([[0, 1, 2], [2, 1, 0]])\n",
    "print(x)\n",
    "print(torch.ones_like(x)) # 동일한 크기(shape)를 가지지만 값이 1로만 채워진 텐서가 생성된다.\n",
    "print(torch.zeros_like(x)) # 동일한 크기(shpe)를 가지지만 값이 0으로 채워진 텐서가 생성된다."
   ]
  },
  {
   "cell_type": "markdown",
   "id": "82eac4df",
   "metadata": {},
   "source": [
    "### In-place Operation (덮어쓰기 연산)"
   ]
  },
  {
   "cell_type": "code",
   "execution_count": 33,
   "id": "47e07bbe",
   "metadata": {},
   "outputs": [
    {
     "name": "stdout",
     "output_type": "stream",
     "text": [
      "tensor([[2., 4.],\n",
      "        [6., 8.]])\n",
      "tensor([[1., 2.],\n",
      "        [3., 4.]])\n",
      "tensor([[2., 4.],\n",
      "        [6., 8.]])\n",
      "tensor([[2., 4.],\n",
      "        [6., 8.]])\n"
     ]
    }
   ],
   "source": [
    "x = torch.FloatTensor([[1, 2], [3, 4]])\n",
    "print(x.mul(2.)) #곱하기 2를 한 결과 출력\n",
    "print(x)\n",
    "\n",
    "print(x.mul_(2.)) # 곱하기 2를 수행한 결과를 변수 x에 값을 저장하면서 결과를 출력\n",
    "print(x) #기존의 값 출력이도는데 연산 결과가 저장됨을 확인 할 수 있다"
   ]
  },
  {
   "cell_type": "markdown",
   "id": "f310d4c7",
   "metadata": {},
   "source": [
    "## 3. 파이썬 클래스(class)"
   ]
  },
  {
   "cell_type": "markdown",
   "id": "d20f3b97",
   "metadata": {},
   "source": [
    "### 함수(function)과 클래스(class)의 차이"
   ]
  },
  {
   "cell_type": "markdown",
   "id": "ba4b4d61",
   "metadata": {},
   "source": [
    "- 함수(function)로 덧셈기 구현하기"
   ]
  },
  {
   "cell_type": "code",
   "execution_count": 34,
   "id": "50eb486c",
   "metadata": {},
   "outputs": [],
   "source": [
    "result = 0 #전역변수 선언\n",
    "def add(num):\n",
    "    global result\n",
    "    result += num\n",
    "    return result"
   ]
  },
  {
   "cell_type": "code",
   "execution_count": 35,
   "id": "d5cd22e7",
   "metadata": {},
   "outputs": [
    {
     "name": "stdout",
     "output_type": "stream",
     "text": [
      "3\n",
      "7\n"
     ]
    }
   ],
   "source": [
    "print(add(3))\n",
    "print(add(4))"
   ]
  },
  {
   "cell_type": "markdown",
   "id": "32155f05",
   "metadata": {},
   "source": [
    "- 함수(function)로 두 개의 덧셈기 구현하기"
   ]
  },
  {
   "cell_type": "code",
   "execution_count": 36,
   "id": "230bd229",
   "metadata": {},
   "outputs": [
    {
     "name": "stdout",
     "output_type": "stream",
     "text": [
      "3\n",
      "7\n",
      "3\n",
      "10\n"
     ]
    }
   ],
   "source": [
    "result1 = 0\n",
    "result2 = 0\n",
    "\n",
    "def add1(num):\n",
    "    global result1\n",
    "    result1 += num\n",
    "    return result1\n",
    "\n",
    "def add2(num):\n",
    "    global result2\n",
    "    result2 += num\n",
    "    return result2\n",
    "\n",
    "print(add1(3))\n",
    "print(add1(4))\n",
    "print(add2(3))\n",
    "print(add2(7))"
   ]
  },
  {
   "cell_type": "markdown",
   "id": "04b66ebb",
   "metadata": {},
   "source": [
    "- 클래스(class)로 덧셈기 구현하기"
   ]
  },
  {
   "cell_type": "code",
   "execution_count": 37,
   "id": "a073dcb5",
   "metadata": {},
   "outputs": [],
   "source": [
    "class Calculator:\n",
    "    def __init__(self): #객체 생성 시 호출될 때 실행되는 초기화 함수. 이를 생성자라고 한다.\n",
    "         self.result = 0\n",
    "    def add(self, num): # 객체 생성 후 사용할 수 있는 함수\n",
    "        self.result += num\n",
    "        return self.result\n"
   ]
  },
  {
   "cell_type": "code",
   "execution_count": 38,
   "id": "7129c4f7",
   "metadata": {},
   "outputs": [],
   "source": [
    "cal1 = Calculator()"
   ]
  },
  {
   "cell_type": "code",
   "execution_count": 39,
   "id": "d87c883f",
   "metadata": {},
   "outputs": [],
   "source": [
    "cal2 = Calculator()"
   ]
  },
  {
   "cell_type": "code",
   "execution_count": 40,
   "id": "5fa676bc",
   "metadata": {},
   "outputs": [
    {
     "name": "stdout",
     "output_type": "stream",
     "text": [
      "3\n",
      "7\n",
      "3\n",
      "10\n"
     ]
    }
   ],
   "source": [
    "print(cal1.add(3))\n",
    "print(cal1.add(4))\n",
    "print(cal2.add(3))\n",
    "print(cal2.add(7))"
   ]
  },
  {
   "cell_type": "markdown",
   "id": "cdcd80b7",
   "metadata": {},
   "source": [
    "## 4. 선형 회귀(Linear Regreesion)\n",
    "- 데이터에 대한 이해(Data Definition)\n",
    "- 가설(Hypothesis) 수립\n",
    "- 손실 계산하기(Compute loss)\n",
    "- 경사 하강법 (Gradient Descent)\n",
    "\n"
   ]
  },
  {
   "cell_type": "markdown",
   "id": "e42ebae2",
   "metadata": {},
   "source": [
    "### 훈련 데이터셋의 구성"
   ]
  },
  {
   "cell_type": "code",
   "execution_count": 41,
   "id": "d665a85e",
   "metadata": {},
   "outputs": [],
   "source": [
    "# x_train : 공부한 시간 , y_train : 맵핑되는 점수\n",
    "x_train = torch.FloatTensor([[1], [2], [3]])#2차원 tensor 생성\n",
    "y_train = torch.FloatTensor([[2], [4], [6]]) #"
   ]
  },
  {
   "cell_type": "markdown",
   "id": "2c24d83a",
   "metadata": {},
   "source": [
    "### 가설(Hypothesis) 수립\n",
    "- 선형 회귀의 가설 : H(x) = W * x + b, W : 가중치(Weight), b : 편향(bias)"
   ]
  },
  {
   "cell_type": "markdown",
   "id": "e2d2c82b",
   "metadata": {},
   "source": [
    "### 비용 함수(Cost Function)에 대한 이해\n",
    "- 비용 함수(cost function) = 손실 함수(loss function) = 오차 함수(error function) = 목적 함수(objective function)\n",
    "- 선형 회귀의 손실 함수 - 평균 제곱 오차 (MSE)\n",
    "\n",
    "<math xmlns=\"http://www.w3.org/1998/Math/MathML\" display=\"block\">\n",
    "  <mi>c</mi>\n",
    "  <mi>o</mi>\n",
    "  <mi>s</mi>\n",
    "  <mi>t</mi>\n",
    "  <mo stretchy=\"false\">(</mo>\n",
    "  <mi>W</mi>\n",
    "  <mo>,</mo>\n",
    "  <mi>b</mi>\n",
    "  <mo stretchy=\"false\">)</mo>\n",
    "  <mo>=</mo>\n",
    "  <mfrac>\n",
    "    <mn>1</mn>\n",
    "    <mi>n</mi>\n",
    "  </mfrac>\n",
    "  <munderover>\n",
    "    <mo data-mjx-texclass=\"OP\">&#x2211;</mo>\n",
    "    <mrow data-mjx-texclass=\"ORD\">\n",
    "      <mi>i</mi>\n",
    "      <mo>=</mo>\n",
    "      <mn>1</mn>\n",
    "    </mrow>\n",
    "    <mrow data-mjx-texclass=\"ORD\">\n",
    "      <mi>n</mi>\n",
    "    </mrow>\n",
    "  </munderover>\n",
    "  <msup>\n",
    "    <mrow data-mjx-texclass=\"INNER\">\n",
    "      <mo data-mjx-texclass=\"OPEN\">[</mo>\n",
    "      <msup>\n",
    "        <mi>y</mi>\n",
    "        <mrow data-mjx-texclass=\"ORD\">\n",
    "          <mo stretchy=\"false\">(</mo>\n",
    "          <mi>i</mi>\n",
    "          <mo stretchy=\"false\">)</mo>\n",
    "        </mrow>\n",
    "      </msup>\n",
    "      <mo>&#x2212;</mo>\n",
    "      <mi>H</mi>\n",
    "      <mo stretchy=\"false\">(</mo>\n",
    "      <msup>\n",
    "        <mi>x</mi>\n",
    "        <mrow data-mjx-texclass=\"ORD\">\n",
    "          <mo stretchy=\"false\">(</mo>\n",
    "          <mi>i</mi>\n",
    "          <mo stretchy=\"false\">)</mo>\n",
    "        </mrow>\n",
    "      </msup>\n",
    "      <mo stretchy=\"false\">)</mo>\n",
    "      <mo data-mjx-texclass=\"CLOSE\">]</mo>\n",
    "    </mrow>\n",
    "    <mn>2</mn>\n",
    "  </msup>\n",
    "</math>"
   ]
  },
  {
   "cell_type": "markdown",
   "id": "f9212dcb",
   "metadata": {},
   "source": [
    "### 옵티마이저 - 경사 하강법(Gradient Descent)\n",
    "- 앞서 정의한 비용 함수(cost function)의 값을 최소로 하는 W와 b를 찾는 방법\n",
    "- 이 때, 사용되는 것이 옵티마이저(Optimizer) 알고리즘이다. 최적화 알고리즘이라고도 부른다.\n",
    "- 가장 기본적인 옵티마이저 알고리즘 중 하나가 경사하강법이다."
   ]
  },
  {
   "cell_type": "markdown",
   "id": "81d017e9",
   "metadata": {},
   "source": [
    "### 파이토치로 선형 회귀 구현하기"
   ]
  },
  {
   "cell_type": "markdown",
   "id": "9f62e739",
   "metadata": {},
   "source": [
    "- 1. 기본 셋팅"
   ]
  },
  {
   "cell_type": "code",
   "execution_count": 42,
   "id": "ffbe459a",
   "metadata": {},
   "outputs": [
    {
     "data": {
      "text/plain": [
       "<torch._C.Generator at 0x7f53925ca1f0>"
      ]
     },
     "execution_count": 42,
     "metadata": {},
     "output_type": "execute_result"
    }
   ],
   "source": [
    "import torch\n",
    "import torch.nn as nn\n",
    "import torch.nn.functional as F\n",
    "import torch.optim as optim\n",
    "\n",
    "torch.manual_seed(1)"
   ]
  },
  {
   "cell_type": "markdown",
   "id": "8f3c92c3",
   "metadata": {},
   "source": [
    "- 변수 선언"
   ]
  },
  {
   "cell_type": "code",
   "execution_count": 43,
   "id": "fa6262f0",
   "metadata": {},
   "outputs": [
    {
     "name": "stdout",
     "output_type": "stream",
     "text": [
      "tensor([[1.],\n",
      "        [2.],\n",
      "        [3.]])\n",
      "torch.Size([3, 1])\n",
      "tensor([[4.],\n",
      "        [5.],\n",
      "        [6.]])\n",
      "torch.Size([3, 1])\n"
     ]
    }
   ],
   "source": [
    "x_train = torch.FloatTensor([[1], [2], [3]])\n",
    "y_train = torch.FloatTensor([[4],[5],[6]])\n",
    "print(x_train)\n",
    "print(x_train.shape)\n",
    "print(y_train)\n",
    "print(y_train.shape)"
   ]
  },
  {
   "cell_type": "markdown",
   "id": "fa423572",
   "metadata": {},
   "source": [
    "- 가중치와 편향의 초기화"
   ]
  },
  {
   "cell_type": "code",
   "execution_count": 44,
   "id": "6ecb1d05",
   "metadata": {},
   "outputs": [
    {
     "name": "stdout",
     "output_type": "stream",
     "text": [
      "tensor([0.], requires_grad=True)\n",
      "torch.Size([1])\n"
     ]
    }
   ],
   "source": [
    "#가중치 W를 0으로 초기화하고 학습을 통해 값이 변경되는 변수임을 명시\n",
    "W = torch.zeros(1, requires_grad = True) #requires_grad = True 학습을 통해 변경되는 변수임을 명시\n",
    "#가중치 W를 출력\n",
    "print(W)\n",
    "print(W.shape)"
   ]
  },
  {
   "cell_type": "code",
   "execution_count": 45,
   "id": "87d18bf7",
   "metadata": {},
   "outputs": [
    {
     "name": "stdout",
     "output_type": "stream",
     "text": [
      "tensor([0.], requires_grad=True)\n"
     ]
    }
   ],
   "source": [
    "b = torch.zeros(1, requires_grad = True)\n",
    "print(b)"
   ]
  },
  {
   "cell_type": "markdown",
   "id": "e653a5b2",
   "metadata": {},
   "source": [
    "- 가설 세우기"
   ]
  },
  {
   "cell_type": "code",
   "execution_count": 46,
   "id": "e8e77df1",
   "metadata": {},
   "outputs": [
    {
     "name": "stdout",
     "output_type": "stream",
     "text": [
      "tensor([[0.],\n",
      "        [0.],\n",
      "        [0.]], grad_fn=<AddBackward0>)\n"
     ]
    }
   ],
   "source": [
    "hypothesis = x_train * W + b\n",
    "print(hypothesis)"
   ]
  },
  {
   "cell_type": "markdown",
   "id": "f633d30d",
   "metadata": {},
   "source": [
    "- 비용 함수 선언하기\n",
    "\n",
    "<math xmlns=\"http://www.w3.org/1998/Math/MathML\" display=\"block\">\n",
    "  <mi>c</mi>\n",
    "  <mi>o</mi>\n",
    "  <mi>s</mi>\n",
    "  <mi>t</mi>\n",
    "  <mo stretchy=\"false\">(</mo>\n",
    "  <mi>W</mi>\n",
    "  <mo>,</mo>\n",
    "  <mi>b</mi>\n",
    "  <mo stretchy=\"false\">)</mo>\n",
    "  <mo>=</mo>\n",
    "  <mfrac>\n",
    "    <mn>1</mn>\n",
    "    <mi>n</mi>\n",
    "  </mfrac>\n",
    "  <munderover>\n",
    "    <mo data-mjx-texclass=\"OP\">&#x2211;</mo>\n",
    "    <mrow data-mjx-texclass=\"ORD\">\n",
    "      <mi>i</mi>\n",
    "      <mo>=</mo>\n",
    "      <mn>1</mn>\n",
    "    </mrow>\n",
    "    <mrow data-mjx-texclass=\"ORD\">\n",
    "      <mi>n</mi>\n",
    "    </mrow>\n",
    "  </munderover>\n",
    "  <msup>\n",
    "    <mrow data-mjx-texclass=\"INNER\">\n",
    "      <mo data-mjx-texclass=\"OPEN\">[</mo>\n",
    "      <msup>\n",
    "        <mi>y</mi>\n",
    "        <mrow data-mjx-texclass=\"ORD\">\n",
    "          <mo stretchy=\"false\">(</mo>\n",
    "          <mi>i</mi>\n",
    "          <mo stretchy=\"false\">)</mo>\n",
    "        </mrow>\n",
    "      </msup>\n",
    "      <mo>&#x2212;</mo>\n",
    "      <mi>H</mi>\n",
    "      <mo stretchy=\"false\">(</mo>\n",
    "      <msup>\n",
    "        <mi>x</mi>\n",
    "        <mrow data-mjx-texclass=\"ORD\">\n",
    "          <mo stretchy=\"false\">(</mo>\n",
    "          <mi>i</mi>\n",
    "          <mo stretchy=\"false\">)</mo>\n",
    "        </mrow>\n",
    "      </msup>\n",
    "      <mo stretchy=\"false\">)</mo>\n",
    "      <mo data-mjx-texclass=\"CLOSE\">]</mo>\n",
    "    </mrow>\n",
    "    <mn>2</mn>\n",
    "  </msup>\n",
    "</math>"
   ]
  },
  {
   "cell_type": "code",
   "execution_count": 47,
   "id": "3d57efdf",
   "metadata": {},
   "outputs": [
    {
     "name": "stdout",
     "output_type": "stream",
     "text": [
      "tensor(25.6667, grad_fn=<MeanBackward0>)\n"
     ]
    }
   ],
   "source": [
    "#앞서 배운 torch.mean으로 평균을 구한다\n",
    "cost = torch.mean((hypothesis - y_train) ** 2)\n",
    "print(cost)"
   ]
  },
  {
   "cell_type": "markdown",
   "id": "6d7be90b",
   "metadata": {},
   "source": [
    "- 경사 하강법 구현하기 (SGD)"
   ]
  },
  {
   "cell_type": "code",
   "execution_count": 48,
   "id": "9b43bcf6",
   "metadata": {},
   "outputs": [
    {
     "name": "stdout",
     "output_type": "stream",
     "text": [
      "SGD (\n",
      "Parameter Group 0\n",
      "    dampening: 0\n",
      "    lr: 0.01\n",
      "    momentum: 0\n",
      "    nesterov: False\n",
      "    weight_decay: 0\n",
      ")\n"
     ]
    }
   ],
   "source": [
    "optimizer = optim.SGD([W, b], lr = 0.01)\n",
    "print(optimizer)"
   ]
  },
  {
   "cell_type": "code",
   "execution_count": 49,
   "id": "6f67d5c8",
   "metadata": {},
   "outputs": [],
   "source": [
    "#gradient를 0으로 초기화\n",
    "optimizer.zero_grad()\n",
    "# 비용 함수를 미분하여 gradient 계산\n",
    "cost.backward()\n",
    "# W와 b를 업데이트\n",
    "optimizer.step()"
   ]
  },
  {
   "cell_type": "markdown",
   "id": "24c5a806",
   "metadata": {},
   "source": [
    "- 전체 코드"
   ]
  },
  {
   "cell_type": "code",
   "execution_count": 50,
   "id": "166a9b0e",
   "metadata": {},
   "outputs": [
    {
     "name": "stdout",
     "output_type": "stream",
     "text": [
      "Epoch    0/2000 W: 0.187, b: 0.080 Cost: 18.666666\n",
      "Epoch  100/2000 W: 1.746, b: 0.578 Cost: 0.048171\n",
      "Epoch  200/2000 W: 1.800, b: 0.454 Cost: 0.029767\n",
      "Epoch  300/2000 W: 1.843, b: 0.357 Cost: 0.018394\n",
      "Epoch  400/2000 W: 1.876, b: 0.281 Cost: 0.011366\n",
      "Epoch  500/2000 W: 1.903, b: 0.221 Cost: 0.007024\n",
      "Epoch  600/2000 W: 1.924, b: 0.174 Cost: 0.004340\n",
      "Epoch  700/2000 W: 1.940, b: 0.136 Cost: 0.002682\n",
      "Epoch  800/2000 W: 1.953, b: 0.107 Cost: 0.001657\n",
      "Epoch  900/2000 W: 1.963, b: 0.084 Cost: 0.001024\n",
      "Epoch 1000/2000 W: 1.971, b: 0.066 Cost: 0.000633\n",
      "Epoch 1100/2000 W: 1.977, b: 0.052 Cost: 0.000391\n",
      "Epoch 1200/2000 W: 1.982, b: 0.041 Cost: 0.000242\n",
      "Epoch 1300/2000 W: 1.986, b: 0.032 Cost: 0.000149\n",
      "Epoch 1400/2000 W: 1.989, b: 0.025 Cost: 0.000092\n",
      "Epoch 1500/2000 W: 1.991, b: 0.020 Cost: 0.000057\n",
      "Epoch 1600/2000 W: 1.993, b: 0.016 Cost: 0.000035\n",
      "Epoch 1700/2000 W: 1.995, b: 0.012 Cost: 0.000022\n",
      "Epoch 1800/2000 W: 1.996, b: 0.010 Cost: 0.000013\n",
      "Epoch 1900/2000 W: 1.997, b: 0.008 Cost: 0.000008\n",
      "Epoch 2000/2000 W: 1.997, b: 0.006 Cost: 0.000005\n"
     ]
    }
   ],
   "source": [
    "# 데이터\n",
    "x_train = torch.FloatTensor([[1], [2], [3]])\n",
    "y_train = torch.FloatTensor([[2], [4], [6]])\n",
    "# 모델 초기화\n",
    "W = torch.zeros(1, requires_grad=True)\n",
    "b = torch.zeros(1, requires_grad=True)\n",
    "# optimizer 설정\n",
    "optimizer = optim.SGD([W, b], lr=0.01)\n",
    "\n",
    "nb_epochs = 2000 # 경사하강법의 반복 횟수\n",
    "for epoch in range(nb_epochs + 1):\n",
    "    \n",
    "    # H(x) 계산\n",
    "    hypothesis = x_train * W + b\n",
    "    \n",
    "    # 비용함수(cost function) 계산 - MSE\n",
    "    cost = torch.mean((hypothesis - y_train) **2)\n",
    "    \n",
    "    # cost로 H(x) 개선\n",
    "    optimizer.zero_grad()\n",
    "    cost.backward()\n",
    "    optimizer.step()\n",
    "    \n",
    "    #100번마다 로그 출력\n",
    "    if epoch % 100 == 0:\n",
    "        print('Epoch {:4d}/{} W: {:.3f}, b: {:.3f} Cost: {:.6f}'.format(\n",
    "            epoch, nb_epochs, W.item(), b.item(), cost.item()\n",
    "        ))\n",
    "#결과적으로 W는 2, b는 0으로 수렴도미을 알 수 있었다."
   ]
  },
  {
   "cell_type": "markdown",
   "id": "d4884434",
   "metadata": {},
   "source": [
    "### optimizer.zero_grad()가 필요한 이유\n",
    "- 파이토치는 미분을 통해 얻은 기울기를 이전에 계산된 기울기 값에 누적시킨는 특징이 있습니다."
   ]
  },
  {
   "cell_type": "code",
   "execution_count": 51,
   "id": "ac8b34ba",
   "metadata": {},
   "outputs": [
    {
     "name": "stdout",
     "output_type": "stream",
     "text": [
      "수식을 w로 미분한 값 : 2.0\n",
      "수식을 w로 미분한 값 : 4.0\n",
      "수식을 w로 미분한 값 : 6.0\n",
      "수식을 w로 미분한 값 : 8.0\n",
      "수식을 w로 미분한 값 : 10.0\n",
      "수식을 w로 미분한 값 : 12.0\n",
      "수식을 w로 미분한 값 : 14.0\n",
      "수식을 w로 미분한 값 : 16.0\n",
      "수식을 w로 미분한 값 : 18.0\n",
      "수식을 w로 미분한 값 : 20.0\n",
      "수식을 w로 미분한 값 : 22.0\n",
      "수식을 w로 미분한 값 : 24.0\n",
      "수식을 w로 미분한 값 : 26.0\n",
      "수식을 w로 미분한 값 : 28.0\n",
      "수식을 w로 미분한 값 : 30.0\n",
      "수식을 w로 미분한 값 : 32.0\n",
      "수식을 w로 미분한 값 : 34.0\n",
      "수식을 w로 미분한 값 : 36.0\n",
      "수식을 w로 미분한 값 : 38.0\n",
      "수식을 w로 미분한 값 : 40.0\n",
      "수식을 w로 미분한 값 : 42.0\n"
     ]
    }
   ],
   "source": [
    "import torch\n",
    "w = torch.tensor(2.0, requires_grad = True) #requires_grad : 텐서가 자동 미분을 지원하는 기능을 가짐\n",
    "\n",
    "nb_epochs = 20\n",
    "for epoch in range(nb_epochs + 1):\n",
    "   \n",
    "    z = 2 * w\n",
    "    \n",
    "    z.backward()\n",
    "    print('수식을 w로 미분한 값 : {}'.format(w.grad))\n",
    "\n",
    "#결과를 보면 계속 미분 값이 2가 누적이 되는 것을 알 수 있고 이로 인해 발생할 문제를 방지해야한다."
   ]
  },
  {
   "cell_type": "markdown",
   "id": "b9a73229",
   "metadata": {},
   "source": [
    "### torch.manual_seed()를 하는 이유 : 난수 발생 순서와 값을 동일하게 만들어 실행시 동일한 결과 도출 가능"
   ]
  },
  {
   "cell_type": "markdown",
   "id": "bc6f07f3",
   "metadata": {},
   "source": [
    "### 자동 미분 (Autograd)\n",
    "- 경사하강법 : 비용 함수를 미분하여 함수의 기울기를 구한 후 비용이 최소화 되는 알고리즘\n",
    "- 이 과정에서 미분 계산을 자동화 해주는 기능을 말한다."
   ]
  },
  {
   "cell_type": "code",
   "execution_count": 52,
   "id": "68080555",
   "metadata": {},
   "outputs": [
    {
     "name": "stdout",
     "output_type": "stream",
     "text": [
      "수식을 w로 미분한 값 : 8.0\n"
     ]
    }
   ],
   "source": [
    "# 자동 미분(Autograd) 실습하기\n",
    "import torch\n",
    "\n",
    "w = torch.tensor(2.0, requires_grad =True)\n",
    "\n",
    "y = w ** 2\n",
    "z = 2 *y + 5 #  2차함수의 일종\n",
    "z.backward() # 해당 수식의 w 에 대한 기울기를 계산\n",
    "\n",
    "print('수식을 w로 미분한 값 : {}'.format(w.grad))"
   ]
  },
  {
   "cell_type": "markdown",
   "id": "e694cc9e",
   "metadata": {},
   "source": [
    "## 다중 선형 회귀(Multivariable Linear regression)"
   ]
  },
  {
   "attachments": {
    "image.png": {
     "image/png": "[encoded data removed]"
    }
   },
   "cell_type": "markdown",
   "id": "c75d0d53",
   "metadata": {},
   "source": [
    "- 데이터에 대한 이해\n",
    "![image.png](attachment:image.png)\n",
    "<math xmlns=\"http://www.w3.org/1998/Math/MathML\">\n",
    "  <mi>H</mi>\n",
    "  <mo stretchy=\"false\">(</mo>\n",
    "  <mi>x</mi>\n",
    "  <mo stretchy=\"false\">)</mo>\n",
    "  <mo>=</mo>\n",
    "  <msub>\n",
    "    <mi>w</mi>\n",
    "    <mrow data-mjx-texclass=\"ORD\">\n",
    "      <mn>1</mn>\n",
    "    </mrow>\n",
    "  </msub>\n",
    "  <msub>\n",
    "    <mi>x</mi>\n",
    "    <mrow data-mjx-texclass=\"ORD\">\n",
    "      <mn>1</mn>\n",
    "    </mrow>\n",
    "  </msub>\n",
    "  <mo>+</mo>\n",
    "  <msub>\n",
    "    <mi>w</mi>\n",
    "    <mrow data-mjx-texclass=\"ORD\">\n",
    "      <mn>2</mn>\n",
    "    </mrow>\n",
    "  </msub>\n",
    "  <msub>\n",
    "    <mi>x</mi>\n",
    "    <mrow data-mjx-texclass=\"ORD\">\n",
    "      <mn>2</mn>\n",
    "    </mrow>\n",
    "  </msub>\n",
    "  <mo>+</mo>\n",
    "  <msub>\n",
    "    <mi>w</mi>\n",
    "    <mrow data-mjx-texclass=\"ORD\">\n",
    "      <mn>3</mn>\n",
    "    </mrow>\n",
    "  </msub>\n",
    "  <msub>\n",
    "    <mi>x</mi>\n",
    "    <mrow data-mjx-texclass=\"ORD\">\n",
    "      <mn>3</mn>\n",
    "    </mrow>\n",
    "  </msub>\n",
    "  <mo>+</mo>\n",
    "  <mi>b</mi>\n",
    "</math>"
   ]
  },
  {
   "cell_type": "markdown",
   "id": "4deb3eba",
   "metadata": {},
   "source": [
    "- 파이토치로 구현하기"
   ]
  },
  {
   "cell_type": "code",
   "execution_count": 53,
   "id": "c39d4662",
   "metadata": {},
   "outputs": [],
   "source": [
    "import torch\n",
    "import torch.nn as nn\n",
    "import torch.nn.functional as F\n",
    "import torch.optim as optim"
   ]
  },
  {
   "cell_type": "code",
   "execution_count": 54,
   "id": "0ae8d9f7",
   "metadata": {},
   "outputs": [
    {
     "data": {
      "text/plain": [
       "<torch._C.Generator at 0x7f53925ca1f0>"
      ]
     },
     "execution_count": 54,
     "metadata": {},
     "output_type": "execute_result"
    }
   ],
   "source": [
    "torch.manual_seed(1)"
   ]
  },
  {
   "cell_type": "code",
   "execution_count": 55,
   "id": "54323987",
   "metadata": {},
   "outputs": [],
   "source": [
    "# 훈련 데이터 \n",
    "#선형 회귀와는 다르게 변수가 3개이다.\n",
    "x1_train = torch.FloatTensor([[73], [93], [89], [96], [73]])\n",
    "x2_train = torch.FloatTensor([[80], [88], [91], [98], [66]])\n",
    "x3_train = torch.FloatTensor([[75], [93], [90], [100], [70]])\n",
    "y_train = torch.FloatTensor([[152], [185], [180], [196], [142]])"
   ]
  },
  {
   "cell_type": "code",
   "execution_count": 56,
   "id": "2fea6c32",
   "metadata": {},
   "outputs": [],
   "source": [
    "# 가중치 w와 편향 b 초기화\n",
    "# 변수 갯수와 가중치 갯수는 일치하여야 한다.(3개)\n",
    "w1 = torch.zeros(1, requires_grad=True)\n",
    "w2 = torch.zeros(1, requires_grad=True)\n",
    "w3 = torch.zeros(1, requires_grad=True)\n",
    "b = torch.zeros(1, requires_grad=True)"
   ]
  },
  {
   "cell_type": "code",
   "execution_count": 68,
   "id": "84b58c4f",
   "metadata": {},
   "outputs": [],
   "source": [
    "optimizer = optim.SGD([w1, w2, w3, b], lr = 1e-5)\n",
    "\n",
    "nb_epochs = 1000\n",
    "for eopch in range(nb_epochs + 1):\n",
    "    \n",
    "    # H(x) 계산\n",
    "    hypothesis = x1_train * w1 + x2_train * w2 + x3_train * w3 + b\n",
    "    \n",
    "    # cost 계산 (MSE)\n",
    "    cost = torch.mean((hypothesis - y_train) ** 2)\n",
    "    \n",
    "    # cost로 H(x) 개선\n",
    "    optimizer.zero_grad()\n",
    "    cost.backward()\n",
    "    optimizer.step()\n",
    "    # 100번마다 로그 출력\n",
    "    if epoch % 100 == 0:\n",
    "        print('Epoch {:4d}/{} w1: {:.3f} w2: {:.3f} w3: {:.3f} b: {:.3f} Cost: {:.6f}'.format(\n",
    "            epoch, nb_epochs, w1.item(), w2.item(), w3.item(), b.item(), cost.item()\n",
    "        ))"
   ]
  },
  {
   "cell_type": "markdown",
   "id": "da731ecf",
   "metadata": {},
   "source": [
    "###  벡터와 행렬 연산으로 바꾸기\n",
    "- 변수의 갯수가 기하급수적으로 증가시에 일일히 선언하는 건 비효율적 \n",
    "- 벡터의 내적(Dot Product)를 이용해서 사용"
   ]
  },
  {
   "cell_type": "markdown",
   "id": "053e6215",
   "metadata": {},
   "source": [
    "### 행렬 연산을 고려하여 파이토치로 구현하기"
   ]
  },
  {
   "cell_type": "code",
   "execution_count": 71,
   "id": "f80eb3f0",
   "metadata": {},
   "outputs": [
    {
     "name": "stdout",
     "output_type": "stream",
     "text": [
      "torch.Size([5, 3])\n",
      "torch.Size([5, 1])\n"
     ]
    }
   ],
   "source": [
    "#x_train을 3개나 설정하지 않고 하나에 모든 샘플을 선언한다.\n",
    "x_train  =  torch.FloatTensor([[73,  80,  75], \n",
    "                               [93,  88,  93], \n",
    "                               [89,  91,  80], \n",
    "                               [96,  98,  100],   \n",
    "                               [73,  66,  70]])  \n",
    "y_train  =  torch.FloatTensor([[152],  [185],  [180],  [196],  [142]])\n",
    "print(x_train.shape)\n",
    "print(y_train.shape)"
   ]
  },
  {
   "cell_type": "code",
   "execution_count": 74,
   "id": "01b07bdd",
   "metadata": {},
   "outputs": [],
   "source": [
    "# 가중치와 편향 선언\n",
    "W = torch.zeros((3, 1), requires_grad=True)\n",
    "b = torch.zeros(1, requires_grad=True)"
   ]
  },
  {
   "cell_type": "code",
   "execution_count": 76,
   "id": "5876e63e",
   "metadata": {},
   "outputs": [
    {
     "name": "stdout",
     "output_type": "stream",
     "text": [
      "tensor([[0.],\n",
      "        [0.],\n",
      "        [0.],\n",
      "        [0.],\n",
      "        [0.]], grad_fn=<AddBackward0>)\n"
     ]
    }
   ],
   "source": [
    "#x_train과 w를 곱하고 이에 가중치 연산을 간단히 설정 가능\n",
    "hypothesis = x_train.matmul(W) + b\n",
    "print(hypothesis)"
   ]
  },
  {
   "cell_type": "code",
   "execution_count": 81,
   "id": "2e9ee84a",
   "metadata": {},
   "outputs": [
    {
     "name": "stdout",
     "output_type": "stream",
     "text": [
      "Epoch    0/20 hypothesis: tensor([0., 0., 0., 0., 0.]) Cost: 29661.800781\n",
      "Epoch    1/20 hypothesis: tensor([66.7178, 80.1701, 76.1025, 86.0194, 61.1565]) Cost: 9537.694336\n",
      "Epoch    2/20 hypothesis: tensor([104.5421, 125.6208, 119.2478, 134.7861,  95.8280]) Cost: 3069.590820\n",
      "Epoch    3/20 hypothesis: tensor([125.9858, 151.3882, 143.7087, 162.4333, 115.4844]) Cost: 990.670288\n",
      "Epoch    4/20 hypothesis: tensor([138.1429, 165.9963, 157.5768, 178.1071, 126.6283]) Cost: 322.481873\n",
      "Epoch    5/20 hypothesis: tensor([145.0350, 174.2780, 165.4395, 186.9928, 132.9461]) Cost: 107.717064\n",
      "Epoch    6/20 hypothesis: tensor([148.9423, 178.9730, 169.8976, 192.0301, 136.5279]) Cost: 38.687496\n",
      "Epoch    7/20 hypothesis: tensor([151.1574, 181.6346, 172.4254, 194.8856, 138.5585]) Cost: 16.499043\n",
      "Epoch    8/20 hypothesis: tensor([152.4131, 183.1435, 173.8590, 196.5043, 139.7097]) Cost: 9.365656\n",
      "Epoch    9/20 hypothesis: tensor([153.1250, 183.9988, 174.6723, 197.4217, 140.3625]) Cost: 7.071114\n",
      "Epoch   10/20 hypothesis: tensor([153.5285, 184.4835, 175.1338, 197.9415, 140.7325]) Cost: 6.331847\n",
      "Epoch   11/20 hypothesis: tensor([153.7572, 184.7582, 175.3958, 198.2360, 140.9424]) Cost: 6.092532\n",
      "Epoch   12/20 hypothesis: tensor([153.8868, 184.9138, 175.5449, 198.4026, 141.0613]) Cost: 6.013817\n",
      "Epoch   13/20 hypothesis: tensor([153.9602, 185.0019, 175.6299, 198.4969, 141.1288]) Cost: 5.986785\n",
      "Epoch   14/20 hypothesis: tensor([154.0017, 185.0517, 175.6785, 198.5500, 141.1671]) Cost: 5.976325\n",
      "Epoch   15/20 hypothesis: tensor([154.0252, 185.0798, 175.7065, 198.5800, 141.1888]) Cost: 5.971208\n",
      "Epoch   16/20 hypothesis: tensor([154.0385, 185.0956, 175.7229, 198.5966, 141.2012]) Cost: 5.967835\n",
      "Epoch   17/20 hypothesis: tensor([154.0459, 185.1045, 175.7326, 198.6059, 141.2082]) Cost: 5.964969\n",
      "Epoch   18/20 hypothesis: tensor([154.0501, 185.1094, 175.7386, 198.6108, 141.2122]) Cost: 5.962291\n",
      "Epoch   19/20 hypothesis: tensor([154.0524, 185.1120, 175.7424, 198.6134, 141.2145]) Cost: 5.959664\n",
      "Epoch   20/20 hypothesis: tensor([154.0536, 185.1134, 175.7451, 198.6145, 141.2158]) Cost: 5.957089\n"
     ]
    }
   ],
   "source": [
    "#다중 선형 회귀 전체 코드\n",
    "x_train  =  torch.FloatTensor([[73,  80,  75], \n",
    "                               [93,  88,  93], \n",
    "                               [89,  91,  80], \n",
    "                               [96,  98,  100],   \n",
    "                               [73,  66,  70]])  \n",
    "y_train  =  torch.FloatTensor([[152],  [185],  [180],  [196],  [142]])\n",
    "\n",
    "# 모델 초기화\n",
    "W = torch.zeros((3, 1), requires_grad=True)\n",
    "b = torch.zeros(1, requires_grad=True)\n",
    "# optimizer 설정\n",
    "optimizer = optim.SGD([W, b], lr=1e-5)\n",
    "\n",
    "nb_epochs = 20\n",
    "for epoch in range(nb_epochs + 1):\n",
    "\n",
    "    # H(x) 계산\n",
    "    # 편향 b는 브로드 캐스팅되어 각 샘플에 더해집니다.\n",
    "    hypothesis = x_train.matmul(W) + b\n",
    "\n",
    "    # cost 계산\n",
    "    cost = torch.mean((hypothesis - y_train) ** 2)\n",
    "\n",
    "    # cost로 H(x) 개선\n",
    "    optimizer.zero_grad()\n",
    "    cost.backward()\n",
    "    optimizer.step()\n",
    "\n",
    "    print('Epoch {:4d}/{} hypothesis: {} Cost: {:.6f}'.format(\n",
    "        epoch, nb_epochs, hypothesis.squeeze().detach(), cost.item()\n",
    "    ))"
   ]
  }
 ],
 "metadata": {
  "kernelspec": {
   "display_name": "Python 3",
   "language": "python",
   "name": "python3"
  },
  "language_info": {
   "codemirror_mode": {
    "name": "ipython",
    "version": 3
   },
   "file_extension": ".py",
   "mimetype": "text/x-python",
   "name": "python",
   "nbconvert_exporter": "python",
   "pygments_lexer": "ipython3",
   "version": "3.8.8"
  }
 },
 "nbformat": 4,
 "nbformat_minor": 5
}
